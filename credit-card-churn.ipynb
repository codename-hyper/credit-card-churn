{
 "cells": [
  {
   "cell_type": "code",
   "execution_count": 1,
   "metadata": {
    "_cell_guid": "b1076dfc-b9ad-4769-8c92-a6c4dae69d19",
    "_uuid": "8f2839f25d086af736a60e9eeb907d3b93b6e0e5",
    "execution": {
     "iopub.execute_input": "2020-12-22T10:32:41.030166Z",
     "iopub.status.busy": "2020-12-22T10:32:41.029596Z",
     "iopub.status.idle": "2020-12-22T10:32:41.039963Z",
     "shell.execute_reply": "2020-12-22T10:32:41.038556Z"
    },
    "papermill": {
     "duration": 0.034854,
     "end_time": "2020-12-22T10:32:41.040088",
     "exception": false,
     "start_time": "2020-12-22T10:32:41.005234",
     "status": "completed"
    },
    "tags": []
   },
   "outputs": [
    {
     "name": "stdout",
     "output_type": "stream",
     "text": [
      "/kaggle/input/credit-card-customers/BankChurners.csv\n"
     ]
    }
   ],
   "source": [
    "# This Python 3 environment comes with many helpful analytics libraries installed\n",
    "# It is defined by the kaggle/python Docker image: https://github.com/kaggle/docker-python\n",
    "# For example, here's several helpful packages to load\n",
    "\n",
    "import numpy as np # linear algebra\n",
    "import pandas as pd # data processing, CSV file I/O (e.g. pd.read_csv)\n",
    "\n",
    "# Input data files are available in the read-only \"../input/\" directory\n",
    "# For example, running this (by clicking run or pressing Shift+Enter) will list all files under the input directory\n",
    "\n",
    "import os\n",
    "for dirname, _, filenames in os.walk('/kaggle/input'):\n",
    "    for filename in filenames:\n",
    "        print(os.path.join(dirname, filename))\n",
    "\n",
    "# You can write up to 20GB to the current directory (/kaggle/working/) that gets preserved as output when you create a version using \"Save & Run All\" \n",
    "# You can also write temporary files to /kaggle/temp/, but they won't be saved outside of the current session"
   ]
  },
  {
   "cell_type": "code",
   "execution_count": 2,
   "metadata": {
    "_cell_guid": "79c7e3d0-c299-4dcb-8224-4455121ee9b0",
    "_uuid": "d629ff2d2480ee46fbb7e2d37f6b5fab8052498a",
    "execution": {
     "iopub.execute_input": "2020-12-22T10:32:41.079413Z",
     "iopub.status.busy": "2020-12-22T10:32:41.078653Z",
     "iopub.status.idle": "2020-12-22T10:32:41.080985Z",
     "shell.execute_reply": "2020-12-22T10:32:41.081534Z"
    },
    "papermill": {
     "duration": 0.023352,
     "end_time": "2020-12-22T10:32:41.081635",
     "exception": false,
     "start_time": "2020-12-22T10:32:41.058283",
     "status": "completed"
    },
    "tags": []
   },
   "outputs": [],
   "source": [
    "import pandas as pd\n",
    "import numpy as np\n",
    "import re"
   ]
  },
  {
   "cell_type": "code",
   "execution_count": 3,
   "metadata": {
    "execution": {
     "iopub.execute_input": "2020-12-22T10:32:41.121827Z",
     "iopub.status.busy": "2020-12-22T10:32:41.121308Z",
     "iopub.status.idle": "2020-12-22T10:32:41.184712Z",
     "shell.execute_reply": "2020-12-22T10:32:41.183733Z"
    },
    "papermill": {
     "duration": 0.086328,
     "end_time": "2020-12-22T10:32:41.184821",
     "exception": false,
     "start_time": "2020-12-22T10:32:41.098493",
     "status": "completed"
    },
    "tags": []
   },
   "outputs": [],
   "source": [
    "data = pd.read_csv('../input/credit-card-customers/BankChurners.csv')"
   ]
  },
  {
   "cell_type": "code",
   "execution_count": 4,
   "metadata": {
    "execution": {
     "iopub.execute_input": "2020-12-22T10:32:41.237230Z",
     "iopub.status.busy": "2020-12-22T10:32:41.236375Z",
     "iopub.status.idle": "2020-12-22T10:32:41.258521Z",
     "shell.execute_reply": "2020-12-22T10:32:41.258938Z"
    },
    "papermill": {
     "duration": 0.056763,
     "end_time": "2020-12-22T10:32:41.259042",
     "exception": false,
     "start_time": "2020-12-22T10:32:41.202279",
     "status": "completed"
    },
    "tags": []
   },
   "outputs": [
    {
     "data": {
      "text/html": [
       "<div>\n",
       "<style scoped>\n",
       "    .dataframe tbody tr th:only-of-type {\n",
       "        vertical-align: middle;\n",
       "    }\n",
       "\n",
       "    .dataframe tbody tr th {\n",
       "        vertical-align: top;\n",
       "    }\n",
       "\n",
       "    .dataframe thead th {\n",
       "        text-align: right;\n",
       "    }\n",
       "</style>\n",
       "<table border=\"1\" class=\"dataframe\">\n",
       "  <thead>\n",
       "    <tr style=\"text-align: right;\">\n",
       "      <th></th>\n",
       "      <th>CLIENTNUM</th>\n",
       "      <th>Attrition_Flag</th>\n",
       "      <th>Customer_Age</th>\n",
       "      <th>Gender</th>\n",
       "      <th>Dependent_count</th>\n",
       "      <th>Education_Level</th>\n",
       "      <th>Marital_Status</th>\n",
       "      <th>Income_Category</th>\n",
       "      <th>Card_Category</th>\n",
       "      <th>Months_on_book</th>\n",
       "      <th>...</th>\n",
       "      <th>Credit_Limit</th>\n",
       "      <th>Total_Revolving_Bal</th>\n",
       "      <th>Avg_Open_To_Buy</th>\n",
       "      <th>Total_Amt_Chng_Q4_Q1</th>\n",
       "      <th>Total_Trans_Amt</th>\n",
       "      <th>Total_Trans_Ct</th>\n",
       "      <th>Total_Ct_Chng_Q4_Q1</th>\n",
       "      <th>Avg_Utilization_Ratio</th>\n",
       "      <th>Naive_Bayes_Classifier_Attrition_Flag_Card_Category_Contacts_Count_12_mon_Dependent_count_Education_Level_Months_Inactive_12_mon_1</th>\n",
       "      <th>Naive_Bayes_Classifier_Attrition_Flag_Card_Category_Contacts_Count_12_mon_Dependent_count_Education_Level_Months_Inactive_12_mon_2</th>\n",
       "    </tr>\n",
       "  </thead>\n",
       "  <tbody>\n",
       "    <tr>\n",
       "      <th>0</th>\n",
       "      <td>768805383</td>\n",
       "      <td>Existing Customer</td>\n",
       "      <td>45</td>\n",
       "      <td>M</td>\n",
       "      <td>3</td>\n",
       "      <td>High School</td>\n",
       "      <td>Married</td>\n",
       "      <td>$60K - $80K</td>\n",
       "      <td>Blue</td>\n",
       "      <td>39</td>\n",
       "      <td>...</td>\n",
       "      <td>12691.0</td>\n",
       "      <td>777</td>\n",
       "      <td>11914.0</td>\n",
       "      <td>1.335</td>\n",
       "      <td>1144</td>\n",
       "      <td>42</td>\n",
       "      <td>1.625</td>\n",
       "      <td>0.061</td>\n",
       "      <td>0.000093</td>\n",
       "      <td>0.99991</td>\n",
       "    </tr>\n",
       "    <tr>\n",
       "      <th>1</th>\n",
       "      <td>818770008</td>\n",
       "      <td>Existing Customer</td>\n",
       "      <td>49</td>\n",
       "      <td>F</td>\n",
       "      <td>5</td>\n",
       "      <td>Graduate</td>\n",
       "      <td>Single</td>\n",
       "      <td>Less than $40K</td>\n",
       "      <td>Blue</td>\n",
       "      <td>44</td>\n",
       "      <td>...</td>\n",
       "      <td>8256.0</td>\n",
       "      <td>864</td>\n",
       "      <td>7392.0</td>\n",
       "      <td>1.541</td>\n",
       "      <td>1291</td>\n",
       "      <td>33</td>\n",
       "      <td>3.714</td>\n",
       "      <td>0.105</td>\n",
       "      <td>0.000057</td>\n",
       "      <td>0.99994</td>\n",
       "    </tr>\n",
       "    <tr>\n",
       "      <th>2</th>\n",
       "      <td>713982108</td>\n",
       "      <td>Existing Customer</td>\n",
       "      <td>51</td>\n",
       "      <td>M</td>\n",
       "      <td>3</td>\n",
       "      <td>Graduate</td>\n",
       "      <td>Married</td>\n",
       "      <td>$80K - $120K</td>\n",
       "      <td>Blue</td>\n",
       "      <td>36</td>\n",
       "      <td>...</td>\n",
       "      <td>3418.0</td>\n",
       "      <td>0</td>\n",
       "      <td>3418.0</td>\n",
       "      <td>2.594</td>\n",
       "      <td>1887</td>\n",
       "      <td>20</td>\n",
       "      <td>2.333</td>\n",
       "      <td>0.000</td>\n",
       "      <td>0.000021</td>\n",
       "      <td>0.99998</td>\n",
       "    </tr>\n",
       "    <tr>\n",
       "      <th>3</th>\n",
       "      <td>769911858</td>\n",
       "      <td>Existing Customer</td>\n",
       "      <td>40</td>\n",
       "      <td>F</td>\n",
       "      <td>4</td>\n",
       "      <td>High School</td>\n",
       "      <td>Unknown</td>\n",
       "      <td>Less than $40K</td>\n",
       "      <td>Blue</td>\n",
       "      <td>34</td>\n",
       "      <td>...</td>\n",
       "      <td>3313.0</td>\n",
       "      <td>2517</td>\n",
       "      <td>796.0</td>\n",
       "      <td>1.405</td>\n",
       "      <td>1171</td>\n",
       "      <td>20</td>\n",
       "      <td>2.333</td>\n",
       "      <td>0.760</td>\n",
       "      <td>0.000134</td>\n",
       "      <td>0.99987</td>\n",
       "    </tr>\n",
       "    <tr>\n",
       "      <th>4</th>\n",
       "      <td>709106358</td>\n",
       "      <td>Existing Customer</td>\n",
       "      <td>40</td>\n",
       "      <td>M</td>\n",
       "      <td>3</td>\n",
       "      <td>Uneducated</td>\n",
       "      <td>Married</td>\n",
       "      <td>$60K - $80K</td>\n",
       "      <td>Blue</td>\n",
       "      <td>21</td>\n",
       "      <td>...</td>\n",
       "      <td>4716.0</td>\n",
       "      <td>0</td>\n",
       "      <td>4716.0</td>\n",
       "      <td>2.175</td>\n",
       "      <td>816</td>\n",
       "      <td>28</td>\n",
       "      <td>2.500</td>\n",
       "      <td>0.000</td>\n",
       "      <td>0.000022</td>\n",
       "      <td>0.99998</td>\n",
       "    </tr>\n",
       "  </tbody>\n",
       "</table>\n",
       "<p>5 rows × 23 columns</p>\n",
       "</div>"
      ],
      "text/plain": [
       "   CLIENTNUM     Attrition_Flag  Customer_Age Gender  Dependent_count  \\\n",
       "0  768805383  Existing Customer            45      M                3   \n",
       "1  818770008  Existing Customer            49      F                5   \n",
       "2  713982108  Existing Customer            51      M                3   \n",
       "3  769911858  Existing Customer            40      F                4   \n",
       "4  709106358  Existing Customer            40      M                3   \n",
       "\n",
       "  Education_Level Marital_Status Income_Category Card_Category  \\\n",
       "0     High School        Married     $60K - $80K          Blue   \n",
       "1        Graduate         Single  Less than $40K          Blue   \n",
       "2        Graduate        Married    $80K - $120K          Blue   \n",
       "3     High School        Unknown  Less than $40K          Blue   \n",
       "4      Uneducated        Married     $60K - $80K          Blue   \n",
       "\n",
       "   Months_on_book  ...  Credit_Limit  Total_Revolving_Bal  Avg_Open_To_Buy  \\\n",
       "0              39  ...       12691.0                  777          11914.0   \n",
       "1              44  ...        8256.0                  864           7392.0   \n",
       "2              36  ...        3418.0                    0           3418.0   \n",
       "3              34  ...        3313.0                 2517            796.0   \n",
       "4              21  ...        4716.0                    0           4716.0   \n",
       "\n",
       "   Total_Amt_Chng_Q4_Q1  Total_Trans_Amt  Total_Trans_Ct  Total_Ct_Chng_Q4_Q1  \\\n",
       "0                 1.335             1144              42                1.625   \n",
       "1                 1.541             1291              33                3.714   \n",
       "2                 2.594             1887              20                2.333   \n",
       "3                 1.405             1171              20                2.333   \n",
       "4                 2.175              816              28                2.500   \n",
       "\n",
       "   Avg_Utilization_Ratio  \\\n",
       "0                  0.061   \n",
       "1                  0.105   \n",
       "2                  0.000   \n",
       "3                  0.760   \n",
       "4                  0.000   \n",
       "\n",
       "   Naive_Bayes_Classifier_Attrition_Flag_Card_Category_Contacts_Count_12_mon_Dependent_count_Education_Level_Months_Inactive_12_mon_1  \\\n",
       "0                                           0.000093                                                                                    \n",
       "1                                           0.000057                                                                                    \n",
       "2                                           0.000021                                                                                    \n",
       "3                                           0.000134                                                                                    \n",
       "4                                           0.000022                                                                                    \n",
       "\n",
       "   Naive_Bayes_Classifier_Attrition_Flag_Card_Category_Contacts_Count_12_mon_Dependent_count_Education_Level_Months_Inactive_12_mon_2  \n",
       "0                                            0.99991                                                                                   \n",
       "1                                            0.99994                                                                                   \n",
       "2                                            0.99998                                                                                   \n",
       "3                                            0.99987                                                                                   \n",
       "4                                            0.99998                                                                                   \n",
       "\n",
       "[5 rows x 23 columns]"
      ]
     },
     "execution_count": 4,
     "metadata": {},
     "output_type": "execute_result"
    }
   ],
   "source": [
    "data.head()"
   ]
  },
  {
   "cell_type": "code",
   "execution_count": 5,
   "metadata": {
    "execution": {
     "iopub.execute_input": "2020-12-22T10:32:41.302694Z",
     "iopub.status.busy": "2020-12-22T10:32:41.301843Z",
     "iopub.status.idle": "2020-12-22T10:32:41.305651Z",
     "shell.execute_reply": "2020-12-22T10:32:41.305130Z"
    },
    "papermill": {
     "duration": 0.027358,
     "end_time": "2020-12-22T10:32:41.305734",
     "exception": false,
     "start_time": "2020-12-22T10:32:41.278376",
     "status": "completed"
    },
    "tags": []
   },
   "outputs": [
    {
     "data": {
      "text/plain": [
       "CLIENTNUM                                                                                                                               int64\n",
       "Attrition_Flag                                                                                                                         object\n",
       "Customer_Age                                                                                                                            int64\n",
       "Gender                                                                                                                                 object\n",
       "Dependent_count                                                                                                                         int64\n",
       "Education_Level                                                                                                                        object\n",
       "Marital_Status                                                                                                                         object\n",
       "Income_Category                                                                                                                        object\n",
       "Card_Category                                                                                                                          object\n",
       "Months_on_book                                                                                                                          int64\n",
       "Total_Relationship_Count                                                                                                                int64\n",
       "Months_Inactive_12_mon                                                                                                                  int64\n",
       "Contacts_Count_12_mon                                                                                                                   int64\n",
       "Credit_Limit                                                                                                                          float64\n",
       "Total_Revolving_Bal                                                                                                                     int64\n",
       "Avg_Open_To_Buy                                                                                                                       float64\n",
       "Total_Amt_Chng_Q4_Q1                                                                                                                  float64\n",
       "Total_Trans_Amt                                                                                                                         int64\n",
       "Total_Trans_Ct                                                                                                                          int64\n",
       "Total_Ct_Chng_Q4_Q1                                                                                                                   float64\n",
       "Avg_Utilization_Ratio                                                                                                                 float64\n",
       "Naive_Bayes_Classifier_Attrition_Flag_Card_Category_Contacts_Count_12_mon_Dependent_count_Education_Level_Months_Inactive_12_mon_1    float64\n",
       "Naive_Bayes_Classifier_Attrition_Flag_Card_Category_Contacts_Count_12_mon_Dependent_count_Education_Level_Months_Inactive_12_mon_2    float64\n",
       "dtype: object"
      ]
     },
     "execution_count": 5,
     "metadata": {},
     "output_type": "execute_result"
    }
   ],
   "source": [
    "data.dtypes"
   ]
  },
  {
   "cell_type": "code",
   "execution_count": 6,
   "metadata": {
    "execution": {
     "iopub.execute_input": "2020-12-22T10:32:41.348469Z",
     "iopub.status.busy": "2020-12-22T10:32:41.347821Z",
     "iopub.status.idle": "2020-12-22T10:32:41.350774Z",
     "shell.execute_reply": "2020-12-22T10:32:41.350329Z"
    },
    "papermill": {
     "duration": 0.026817,
     "end_time": "2020-12-22T10:32:41.350858",
     "exception": false,
     "start_time": "2020-12-22T10:32:41.324041",
     "status": "completed"
    },
    "tags": []
   },
   "outputs": [],
   "source": [
    "data.drop(columns=['CLIENTNUM','Naive_Bayes_Classifier_Attrition_Flag_Card_Category_Contacts_Count_12_mon_Dependent_count_Education_Level_Months_Inactive_12_mon_1','Naive_Bayes_Classifier_Attrition_Flag_Card_Category_Contacts_Count_12_mon_Dependent_count_Education_Level_Months_Inactive_12_mon_2'],inplace=True)"
   ]
  },
  {
   "cell_type": "code",
   "execution_count": 7,
   "metadata": {
    "execution": {
     "iopub.execute_input": "2020-12-22T10:32:41.394312Z",
     "iopub.status.busy": "2020-12-22T10:32:41.393500Z",
     "iopub.status.idle": "2020-12-22T10:32:41.397212Z",
     "shell.execute_reply": "2020-12-22T10:32:41.396756Z"
    },
    "papermill": {
     "duration": 0.027929,
     "end_time": "2020-12-22T10:32:41.397306",
     "exception": false,
     "start_time": "2020-12-22T10:32:41.369377",
     "status": "completed"
    },
    "tags": []
   },
   "outputs": [],
   "source": [
    "Attrition_Flag_map = {'Existing Customer':1,'Attrited Customer':0}\n",
    "data['Attrition_Flag'] = data['Attrition_Flag'].map(Attrition_Flag_map)"
   ]
  },
  {
   "cell_type": "code",
   "execution_count": 8,
   "metadata": {
    "execution": {
     "iopub.execute_input": "2020-12-22T10:32:41.440125Z",
     "iopub.status.busy": "2020-12-22T10:32:41.439312Z",
     "iopub.status.idle": "2020-12-22T10:32:41.451786Z",
     "shell.execute_reply": "2020-12-22T10:32:41.451351Z"
    },
    "papermill": {
     "duration": 0.035987,
     "end_time": "2020-12-22T10:32:41.451921",
     "exception": false,
     "start_time": "2020-12-22T10:32:41.415934",
     "status": "completed"
    },
    "tags": []
   },
   "outputs": [],
   "source": [
    "data = pd.get_dummies(data,columns=['Gender','Marital_Status','Card_Category',],drop_first=True)"
   ]
  },
  {
   "cell_type": "code",
   "execution_count": 9,
   "metadata": {
    "execution": {
     "iopub.execute_input": "2020-12-22T10:32:41.497069Z",
     "iopub.status.busy": "2020-12-22T10:32:41.496322Z",
     "iopub.status.idle": "2020-12-22T10:32:41.498912Z",
     "shell.execute_reply": "2020-12-22T10:32:41.498510Z"
    },
    "papermill": {
     "duration": 0.028283,
     "end_time": "2020-12-22T10:32:41.498997",
     "exception": false,
     "start_time": "2020-12-22T10:32:41.470714",
     "status": "completed"
    },
    "tags": []
   },
   "outputs": [],
   "source": [
    "Education_Level_map = {'Uneducated':0,'Unknown':1,'High School':2,'College':3,'Graduate':4,'Post-Graduate':5,'Doctorate':6}\n",
    "data['Education_Level'] = data['Education_Level'].map(Education_Level_map)"
   ]
  },
  {
   "cell_type": "code",
   "execution_count": 10,
   "metadata": {
    "execution": {
     "iopub.execute_input": "2020-12-22T10:32:41.564668Z",
     "iopub.status.busy": "2020-12-22T10:32:41.554480Z",
     "iopub.status.idle": "2020-12-22T10:32:41.571649Z",
     "shell.execute_reply": "2020-12-22T10:32:41.571220Z"
    },
    "papermill": {
     "duration": 0.053726,
     "end_time": "2020-12-22T10:32:41.571730",
     "exception": false,
     "start_time": "2020-12-22T10:32:41.518004",
     "status": "completed"
    },
    "tags": []
   },
   "outputs": [],
   "source": [
    "salary = []\n",
    "for i in data['Income_Category']:\n",
    "    try:\n",
    "        salary.append(re.findall(r'\\d+(?=K)',i)[0])\n",
    "    except:\n",
    "        salary.append(i)\n",
    "salary_series = pd.Series(salary)\n",
    "data['Income_Category'] = salary_series\n",
    "    "
   ]
  },
  {
   "cell_type": "code",
   "execution_count": 11,
   "metadata": {
    "execution": {
     "iopub.execute_input": "2020-12-22T10:32:41.615218Z",
     "iopub.status.busy": "2020-12-22T10:32:41.614406Z",
     "iopub.status.idle": "2020-12-22T10:32:41.630009Z",
     "shell.execute_reply": "2020-12-22T10:32:41.629541Z"
    },
    "papermill": {
     "duration": 0.039523,
     "end_time": "2020-12-22T10:32:41.630105",
     "exception": false,
     "start_time": "2020-12-22T10:32:41.590582",
     "status": "completed"
    },
    "tags": []
   },
   "outputs": [],
   "source": [
    "for i in data.columns:\n",
    "    data[i] = pd.to_numeric(data[i],errors='coerce')"
   ]
  },
  {
   "cell_type": "code",
   "execution_count": 12,
   "metadata": {
    "execution": {
     "iopub.execute_input": "2020-12-22T10:32:41.672424Z",
     "iopub.status.busy": "2020-12-22T10:32:41.671850Z",
     "iopub.status.idle": "2020-12-22T10:32:41.674924Z",
     "shell.execute_reply": "2020-12-22T10:32:41.674520Z"
    },
    "papermill": {
     "duration": 0.025924,
     "end_time": "2020-12-22T10:32:41.675025",
     "exception": false,
     "start_time": "2020-12-22T10:32:41.649101",
     "status": "completed"
    },
    "tags": []
   },
   "outputs": [],
   "source": [
    "data['Income_Category'] = data['Income_Category'].fillna(0)"
   ]
  },
  {
   "cell_type": "code",
   "execution_count": 13,
   "metadata": {
    "execution": {
     "iopub.execute_input": "2020-12-22T10:32:41.716669Z",
     "iopub.status.busy": "2020-12-22T10:32:41.716168Z",
     "iopub.status.idle": "2020-12-22T10:32:42.505764Z",
     "shell.execute_reply": "2020-12-22T10:32:42.504675Z"
    },
    "papermill": {
     "duration": 0.811802,
     "end_time": "2020-12-22T10:32:42.505883",
     "exception": false,
     "start_time": "2020-12-22T10:32:41.694081",
     "status": "completed"
    },
    "tags": []
   },
   "outputs": [],
   "source": [
    "import matplotlib.pyplot as plt\n",
    "import seaborn as sns"
   ]
  },
  {
   "cell_type": "code",
   "execution_count": 14,
   "metadata": {
    "execution": {
     "iopub.execute_input": "2020-12-22T10:32:42.550043Z",
     "iopub.status.busy": "2020-12-22T10:32:42.549500Z",
     "iopub.status.idle": "2020-12-22T10:32:44.973121Z",
     "shell.execute_reply": "2020-12-22T10:32:44.972685Z"
    },
    "papermill": {
     "duration": 2.447826,
     "end_time": "2020-12-22T10:32:44.973283",
     "exception": false,
     "start_time": "2020-12-22T10:32:42.525457",
     "status": "completed"
    },
    "tags": []
   },
   "outputs": [
    {
     "data": {
      "image/png": "[encoded data removed]",
      "text/plain": [
       "<Figure size 432x288 with 1 Axes>"
      ]
     },
     "metadata": {
      "needs_background": "light"
     },
     "output_type": "display_data"
    },
    {
     "data": {
      "image/png": "[encoded data removed]",
      "text/plain": [
       "<Figure size 432x288 with 1 Axes>"
      ]
     },
     "metadata": {
      "needs_background": "light"
     },
     "output_type": "display_data"
    },
    {
     "data": {
      "image/png": "[encoded data removed]",
      "text/plain": [
       "<Figure size 432x288 with 1 Axes>"
      ]
     },
     "metadata": {
      "needs_background": "light"
     },
     "output_type": "display_data"
    },
    {
     "data": {
      "image/png": "[encoded data removed]",
      "text/plain": [
       "<Figure size 432x288 with 1 Axes>"
      ]
     },
     "metadata": {
      "needs_background": "light"
     },
     "output_type": "display_data"
    },
    {
     "data": {
      "image/png": "[encoded data removed]",
      "text/plain": [
       "<Figure size 432x288 with 1 Axes>"
      ]
     },
     "metadata": {
      "needs_background": "light"
     },
     "output_type": "display_data"
    },
    {
     "data": {
      "image/png": "[encoded data removed]",
      "text/plain": [
       "<Figure size 432x288 with 1 Axes>"
      ]
     },
     "metadata": {
      "needs_background": "light"
     },
     "output_type": "display_data"
    },
    {
     "data": {
      "image/png": "[encoded data removed]",
      "text/plain": [
       "<Figure size 432x288 with 1 Axes>"
      ]
     },
     "metadata": {
      "needs_background": "light"
     },
     "output_type": "display_data"
    },
    {
     "data": {
      "image/png": "[encoded data removed]",
      "text/plain": [
       "<Figure size 432x288 with 1 Axes>"
      ]
     },
     "metadata": {
      "needs_background": "light"
     },
     "output_type": "display_data"
    },
    {
     "data": {
      "image/png": "[encoded data removed]",
      "text/plain": [
       "<Figure size 432x288 with 1 Axes>"
      ]
     },
     "metadata": {
      "needs_background": "light"
     },
     "output_type": "display_data"
    },
    {
     "data": {
      "image/png": "[encoded data removed]",
      "text/plain": [
       "<Figure size 432x288 with 1 Axes>"
      ]
     },
     "metadata": {
      "needs_background": "light"
     },
     "output_type": "display_data"
    },
    {
     "data": {
      "image/png": "[encoded data removed]",
      "text/plain": [
       "<Figure size 432x288 with 1 Axes>"
      ]
     },
     "metadata": {
      "needs_background": "light"
     },
     "output_type": "display_data"
    },
    {
     "data": {
      "image/png": "[encoded data removed]",
      "text/plain": [
       "<Figure size 432x288 with 1 Axes>"
      ]
     },
     "metadata": {
      "needs_background": "light"
     },
     "output_type": "display_data"
    },
    {
     "data": {
      "image/png": "[encoded data removed]",
      "text/plain": [
       "<Figure size 432x288 with 1 Axes>"
      ]
     },
     "metadata": {
      "needs_background": "light"
     },
     "output_type": "display_data"
    },
    {
     "data": {
      "image/png": "[encoded data removed]",
      "text/plain": [
       "<Figure size 432x288 with 1 Axes>"
      ]
     },
     "metadata": {
      "needs_background": "light"
     },
     "output_type": "display_data"
    },
    {
     "data": {
      "image/png": "[encoded data removed]",
      "text/plain": [
       "<Figure size 432x288 with 1 Axes>"
      ]
     },
     "metadata": {
      "needs_background": "light"
     },
     "output_type": "display_data"
    },
    {
     "data": {
      "image/png": "[encoded data removed]",
      "text/plain": [
       "<Figure size 432x288 with 1 Axes>"
      ]
     },
     "metadata": {
      "needs_background": "light"
     },
     "output_type": "display_data"
    },
    {
     "data": {
      "image/png": "[encoded data removed]",
      "text/plain": [
       "<Figure size 432x288 with 1 Axes>"
      ]
     },
     "metadata": {
      "needs_background": "light"
     },
     "output_type": "display_data"
    },
    {
     "data": {
      "image/png": "[encoded data removed]",
      "text/plain": [
       "<Figure size 432x288 with 1 Axes>"
      ]
     },
     "metadata": {
      "needs_background": "light"
     },
     "output_type": "display_data"
    },
    {
     "data": {
      "image/png": "[encoded data removed]",
      "text/plain": [
       "<Figure size 432x288 with 1 Axes>"
      ]
     },
     "metadata": {
      "needs_background": "light"
     },
     "output_type": "display_data"
    },
    {
     "data": {
      "image/png": "[encoded data removed]",
      "text/plain": [
       "<Figure size 432x288 with 1 Axes>"
      ]
     },
     "metadata": {
      "needs_background": "light"
     },
     "output_type": "display_data"
    },
    {
     "data": {
      "image/png": "[encoded data removed]",
      "text/plain": [
       "<Figure size 432x288 with 1 Axes>"
      ]
     },
     "metadata": {
      "needs_background": "light"
     },
     "output_type": "display_data"
    },
    {
     "data": {
      "image/png": "[encoded data removed]",
      "text/plain": [
       "<Figure size 432x288 with 1 Axes>"
      ]
     },
     "metadata": {
      "needs_background": "light"
     },
     "output_type": "display_data"
    },
    {
     "data": {
      "image/png": "[encoded data removed]",
      "text/plain": [
       "<Figure size 432x288 with 1 Axes>"
      ]
     },
     "metadata": {
      "needs_background": "light"
     },
     "output_type": "display_data"
    },
    {
     "data": {
      "image/png": "[encoded data removed]",
      "text/plain": [
       "<Figure size 432x288 with 1 Axes>"
      ]
     },
     "metadata": {
      "needs_background": "light"
     },
     "output_type": "display_data"
    }
   ],
   "source": [
    "for i in data.columns:\n",
    "    try:\n",
    "        sns.boxplot(data[i])\n",
    "        plt.show()\n",
    "    except:\n",
    "        print(i)"
   ]
  },
  {
   "cell_type": "code",
   "execution_count": 15,
   "metadata": {
    "execution": {
     "iopub.execute_input": "2020-12-22T10:32:45.045122Z",
     "iopub.status.busy": "2020-12-22T10:32:45.044559Z",
     "iopub.status.idle": "2020-12-22T10:32:50.049511Z",
     "shell.execute_reply": "2020-12-22T10:32:50.050540Z"
    },
    "papermill": {
     "duration": 5.042047,
     "end_time": "2020-12-22T10:32:50.050711",
     "exception": false,
     "start_time": "2020-12-22T10:32:45.008664",
     "status": "completed"
    },
    "tags": []
   },
   "outputs": [],
   "source": [
    "import tensorflow as tf\n",
    "from tensorflow import keras"
   ]
  },
  {
   "cell_type": "code",
   "execution_count": 16,
   "metadata": {
    "execution": {
     "iopub.execute_input": "2020-12-22T10:32:50.179466Z",
     "iopub.status.busy": "2020-12-22T10:32:50.177300Z",
     "iopub.status.idle": "2020-12-22T10:32:50.184391Z",
     "shell.execute_reply": "2020-12-22T10:32:50.187505Z"
    },
    "papermill": {
     "duration": 0.082885,
     "end_time": "2020-12-22T10:32:50.187680",
     "exception": false,
     "start_time": "2020-12-22T10:32:50.104795",
     "status": "completed"
    },
    "tags": []
   },
   "outputs": [],
   "source": [
    "x = data.drop(columns=['Attrition_Flag'])\n",
    "y = data['Attrition_Flag']"
   ]
  },
  {
   "cell_type": "code",
   "execution_count": 17,
   "metadata": {
    "execution": {
     "iopub.execute_input": "2020-12-22T10:32:50.292641Z",
     "iopub.status.busy": "2020-12-22T10:32:50.291965Z",
     "iopub.status.idle": "2020-12-22T10:32:50.664298Z",
     "shell.execute_reply": "2020-12-22T10:32:50.663322Z"
    },
    "papermill": {
     "duration": 0.440625,
     "end_time": "2020-12-22T10:32:50.664416",
     "exception": false,
     "start_time": "2020-12-22T10:32:50.223791",
     "status": "completed"
    },
    "tags": []
   },
   "outputs": [],
   "source": [
    "from imblearn.over_sampling import SMOTE "
   ]
  },
  {
   "cell_type": "code",
   "execution_count": 18,
   "metadata": {
    "execution": {
     "iopub.execute_input": "2020-12-22T10:32:50.739621Z",
     "iopub.status.busy": "2020-12-22T10:32:50.738726Z",
     "iopub.status.idle": "2020-12-22T10:32:50.782471Z",
     "shell.execute_reply": "2020-12-22T10:32:50.781964Z"
    },
    "papermill": {
     "duration": 0.080686,
     "end_time": "2020-12-22T10:32:50.782563",
     "exception": false,
     "start_time": "2020-12-22T10:32:50.701877",
     "status": "completed"
    },
    "tags": []
   },
   "outputs": [],
   "source": [
    "sm = SMOTE(random_state=42)\n",
    "x_res, y_res = sm.fit_resample(x, y)"
   ]
  },
  {
   "cell_type": "code",
   "execution_count": 19,
   "metadata": {
    "execution": {
     "iopub.execute_input": "2020-12-22T10:32:50.854808Z",
     "iopub.status.busy": "2020-12-22T10:32:50.853985Z",
     "iopub.status.idle": "2020-12-22T10:32:50.857979Z",
     "shell.execute_reply": "2020-12-22T10:32:50.857510Z"
    },
    "papermill": {
     "duration": 0.042435,
     "end_time": "2020-12-22T10:32:50.858069",
     "exception": false,
     "start_time": "2020-12-22T10:32:50.815634",
     "status": "completed"
    },
    "tags": []
   },
   "outputs": [],
   "source": [
    "from sklearn.model_selection import train_test_split"
   ]
  },
  {
   "cell_type": "code",
   "execution_count": 20,
   "metadata": {
    "execution": {
     "iopub.execute_input": "2020-12-22T10:32:50.929842Z",
     "iopub.status.busy": "2020-12-22T10:32:50.929333Z",
     "iopub.status.idle": "2020-12-22T10:32:50.947708Z",
     "shell.execute_reply": "2020-12-22T10:32:50.948109Z"
    },
    "papermill": {
     "duration": 0.056612,
     "end_time": "2020-12-22T10:32:50.948240",
     "exception": false,
     "start_time": "2020-12-22T10:32:50.891628",
     "status": "completed"
    },
    "tags": []
   },
   "outputs": [],
   "source": [
    "x_train,x_test,y_train,y_test = train_test_split(x_res,y_res,test_size=0.20,random_state=71,stratify=y_res)"
   ]
  },
  {
   "cell_type": "code",
   "execution_count": 21,
   "metadata": {
    "execution": {
     "iopub.execute_input": "2020-12-22T10:32:51.019216Z",
     "iopub.status.busy": "2020-12-22T10:32:51.018654Z",
     "iopub.status.idle": "2020-12-22T10:32:51.023549Z",
     "shell.execute_reply": "2020-12-22T10:32:51.022757Z"
    },
    "papermill": {
     "duration": 0.042175,
     "end_time": "2020-12-22T10:32:51.023695",
     "exception": false,
     "start_time": "2020-12-22T10:32:50.981520",
     "status": "completed"
    },
    "tags": []
   },
   "outputs": [],
   "source": [
    "from sklearn.preprocessing import MinMaxScaler"
   ]
  },
  {
   "cell_type": "code",
   "execution_count": 22,
   "metadata": {
    "execution": {
     "iopub.execute_input": "2020-12-22T10:32:51.097982Z",
     "iopub.status.busy": "2020-12-22T10:32:51.096253Z",
     "iopub.status.idle": "2020-12-22T10:32:51.098663Z",
     "shell.execute_reply": "2020-12-22T10:32:51.099076Z"
    },
    "papermill": {
     "duration": 0.040176,
     "end_time": "2020-12-22T10:32:51.099195",
     "exception": false,
     "start_time": "2020-12-22T10:32:51.059019",
     "status": "completed"
    },
    "tags": []
   },
   "outputs": [],
   "source": [
    "train_scale = MinMaxScaler()\n",
    "test_scale = MinMaxScaler()"
   ]
  },
  {
   "cell_type": "code",
   "execution_count": 23,
   "metadata": {
    "execution": {
     "iopub.execute_input": "2020-12-22T10:32:51.171959Z",
     "iopub.status.busy": "2020-12-22T10:32:51.171066Z",
     "iopub.status.idle": "2020-12-22T10:32:51.183848Z",
     "shell.execute_reply": "2020-12-22T10:32:51.183406Z"
    },
    "papermill": {
     "duration": 0.051833,
     "end_time": "2020-12-22T10:32:51.183933",
     "exception": false,
     "start_time": "2020-12-22T10:32:51.132100",
     "status": "completed"
    },
    "tags": []
   },
   "outputs": [],
   "source": [
    "x_train_scaled = train_scale.fit_transform(x_train)\n",
    "x_test_scaled = train_scale.fit_transform(x_test)"
   ]
  },
  {
   "cell_type": "code",
   "execution_count": 24,
   "metadata": {
    "execution": {
     "iopub.execute_input": "2020-12-22T10:32:51.255052Z",
     "iopub.status.busy": "2020-12-22T10:32:51.254494Z",
     "iopub.status.idle": "2020-12-22T10:32:51.260814Z",
     "shell.execute_reply": "2020-12-22T10:32:51.260368Z"
    },
    "papermill": {
     "duration": 0.043256,
     "end_time": "2020-12-22T10:32:51.260903",
     "exception": false,
     "start_time": "2020-12-22T10:32:51.217647",
     "status": "completed"
    },
    "tags": []
   },
   "outputs": [
    {
     "data": {
      "text/plain": [
       "(13600, 23)"
      ]
     },
     "execution_count": 24,
     "metadata": {},
     "output_type": "execute_result"
    }
   ],
   "source": [
    "x_train_scaled.shape"
   ]
  },
  {
   "cell_type": "code",
   "execution_count": 25,
   "metadata": {
    "execution": {
     "iopub.execute_input": "2020-12-22T10:32:51.337502Z",
     "iopub.status.busy": "2020-12-22T10:32:51.336907Z",
     "iopub.status.idle": "2020-12-22T10:32:54.012005Z",
     "shell.execute_reply": "2020-12-22T10:32:54.011106Z"
    },
    "papermill": {
     "duration": 2.717349,
     "end_time": "2020-12-22T10:32:54.012117",
     "exception": false,
     "start_time": "2020-12-22T10:32:51.294768",
     "status": "completed"
    },
    "tags": []
   },
   "outputs": [],
   "source": [
    "model = keras.Sequential([\n",
    "    keras.layers.Flatten(input_shape = (23,)),\n",
    "    keras.layers.Dropout(0.2),\n",
    "    keras.layers.Dense(5000,activation='relu'),\n",
    "    keras.layers.Dropout(0.2),\n",
    "    keras.layers.Dense(5000,activation='relu'),\n",
    "    keras.layers.Dense(1500,activation='relu'),\n",
    "    keras.layers.Dense(1500,activation='relu'),\n",
    "    keras.layers.Dense(500,activation='relu'),\n",
    "    keras.layers.Dense(500,activation='relu'),\n",
    "    keras.layers.Dense(250,activation='relu'),\n",
    "    keras.layers.Dense(250,activation='relu'),\n",
    "    keras.layers.Dense(1,activation='sigmoid')\n",
    "])"
   ]
  },
  {
   "cell_type": "code",
   "execution_count": 26,
   "metadata": {
    "execution": {
     "iopub.execute_input": "2020-12-22T10:32:54.092808Z",
     "iopub.status.busy": "2020-12-22T10:32:54.091938Z",
     "iopub.status.idle": "2020-12-22T10:32:54.100308Z",
     "shell.execute_reply": "2020-12-22T10:32:54.099847Z"
    },
    "papermill": {
     "duration": 0.05285,
     "end_time": "2020-12-22T10:32:54.100398",
     "exception": false,
     "start_time": "2020-12-22T10:32:54.047548",
     "status": "completed"
    },
    "tags": []
   },
   "outputs": [],
   "source": [
    "model.compile(optimizer='adam',loss='binary_crossentropy',metrics='accuracy')"
   ]
  },
  {
   "cell_type": "code",
   "execution_count": 27,
   "metadata": {
    "execution": {
     "iopub.execute_input": "2020-12-22T10:32:54.172126Z",
     "iopub.status.busy": "2020-12-22T10:32:54.171634Z",
     "iopub.status.idle": "2020-12-22T10:39:35.529504Z",
     "shell.execute_reply": "2020-12-22T10:39:35.528959Z"
    },
    "papermill": {
     "duration": 401.395365,
     "end_time": "2020-12-22T10:39:35.529607",
     "exception": false,
     "start_time": "2020-12-22T10:32:54.134242",
     "status": "completed"
    },
    "tags": []
   },
   "outputs": [
    {
     "name": "stdout",
     "output_type": "stream",
     "text": [
      "Epoch 1/250\n",
      "213/213 [==============================] - 2s 7ms/step - loss: 0.4695 - accuracy: 0.7719\n",
      "Epoch 2/250\n",
      "213/213 [==============================] - 2s 7ms/step - loss: 0.3676 - accuracy: 0.8381\n",
      "Epoch 3/250\n",
      "213/213 [==============================] - 2s 8ms/step - loss: 0.3558 - accuracy: 0.8481\n",
      "Epoch 4/250\n",
      "213/213 [==============================] - 2s 7ms/step - loss: 0.3342 - accuracy: 0.8582\n",
      "Epoch 5/250\n",
      "213/213 [==============================] - 2s 7ms/step - loss: 0.3333 - accuracy: 0.8570\n",
      "Epoch 6/250\n",
      "213/213 [==============================] - 2s 7ms/step - loss: 0.3139 - accuracy: 0.8675\n",
      "Epoch 7/250\n",
      "213/213 [==============================] - 2s 7ms/step - loss: 0.3047 - accuracy: 0.8715\n",
      "Epoch 8/250\n",
      "213/213 [==============================] - 2s 7ms/step - loss: 0.2979 - accuracy: 0.8735\n",
      "Epoch 9/250\n",
      "213/213 [==============================] - 2s 7ms/step - loss: 0.2896 - accuracy: 0.8751\n",
      "Epoch 10/250\n",
      "213/213 [==============================] - 2s 8ms/step - loss: 0.2815 - accuracy: 0.8785\n",
      "Epoch 11/250\n",
      "213/213 [==============================] - 2s 8ms/step - loss: 0.2690 - accuracy: 0.8829\n",
      "Epoch 12/250\n",
      "213/213 [==============================] - 2s 7ms/step - loss: 0.2587 - accuracy: 0.8904\n",
      "Epoch 13/250\n",
      "213/213 [==============================] - 2s 7ms/step - loss: 0.2542 - accuracy: 0.8924\n",
      "Epoch 14/250\n",
      "213/213 [==============================] - 2s 7ms/step - loss: 0.2502 - accuracy: 0.8955\n",
      "Epoch 15/250\n",
      "213/213 [==============================] - 2s 7ms/step - loss: 0.2425 - accuracy: 0.8984\n",
      "Epoch 16/250\n",
      "213/213 [==============================] - 2s 7ms/step - loss: 0.2356 - accuracy: 0.9027\n",
      "Epoch 17/250\n",
      "213/213 [==============================] - 2s 10ms/step - loss: 0.2310 - accuracy: 0.9022\n",
      "Epoch 18/250\n",
      "213/213 [==============================] - 2s 7ms/step - loss: 0.2335 - accuracy: 0.9021\n",
      "Epoch 19/250\n",
      "213/213 [==============================] - 2s 7ms/step - loss: 0.2297 - accuracy: 0.9040\n",
      "Epoch 20/250\n",
      "213/213 [==============================] - 2s 7ms/step - loss: 0.2329 - accuracy: 0.9024\n",
      "Epoch 21/250\n",
      "213/213 [==============================] - 2s 7ms/step - loss: 0.2228 - accuracy: 0.9076\n",
      "Epoch 22/250\n",
      "213/213 [==============================] - 2s 7ms/step - loss: 0.2092 - accuracy: 0.9141\n",
      "Epoch 23/250\n",
      "213/213 [==============================] - 2s 7ms/step - loss: 0.2126 - accuracy: 0.9137\n",
      "Epoch 24/250\n",
      "213/213 [==============================] - 2s 8ms/step - loss: 0.2210 - accuracy: 0.9068\n",
      "Epoch 25/250\n",
      "213/213 [==============================] - 2s 7ms/step - loss: 0.2133 - accuracy: 0.9116\n",
      "Epoch 26/250\n",
      "213/213 [==============================] - 2s 7ms/step - loss: 0.2145 - accuracy: 0.9094\n",
      "Epoch 27/250\n",
      "213/213 [==============================] - 2s 7ms/step - loss: 0.2064 - accuracy: 0.9149\n",
      "Epoch 28/250\n",
      "213/213 [==============================] - 2s 7ms/step - loss: 0.1991 - accuracy: 0.9179\n",
      "Epoch 29/250\n",
      "213/213 [==============================] - 2s 7ms/step - loss: 0.2021 - accuracy: 0.9175\n",
      "Epoch 30/250\n",
      "213/213 [==============================] - 2s 7ms/step - loss: 0.2011 - accuracy: 0.9145\n",
      "Epoch 31/250\n",
      "213/213 [==============================] - 2s 8ms/step - loss: 0.1967 - accuracy: 0.9214\n",
      "Epoch 32/250\n",
      "213/213 [==============================] - 2s 7ms/step - loss: 0.1982 - accuracy: 0.9185\n",
      "Epoch 33/250\n",
      "213/213 [==============================] - 2s 7ms/step - loss: 0.1935 - accuracy: 0.9206\n",
      "Epoch 34/250\n",
      "213/213 [==============================] - 2s 7ms/step - loss: 0.1918 - accuracy: 0.9210\n",
      "Epoch 35/250\n",
      "213/213 [==============================] - 2s 7ms/step - loss: 0.1892 - accuracy: 0.9217\n",
      "Epoch 36/250\n",
      "213/213 [==============================] - 2s 7ms/step - loss: 0.2065 - accuracy: 0.9147\n",
      "Epoch 37/250\n",
      "213/213 [==============================] - 2s 8ms/step - loss: 0.1979 - accuracy: 0.9200\n",
      "Epoch 38/250\n",
      "213/213 [==============================] - 2s 9ms/step - loss: 0.1935 - accuracy: 0.9206\n",
      "Epoch 39/250\n",
      "213/213 [==============================] - 2s 7ms/step - loss: 0.1884 - accuracy: 0.9236\n",
      "Epoch 40/250\n",
      "213/213 [==============================] - 2s 7ms/step - loss: 0.1840 - accuracy: 0.9256\n",
      "Epoch 41/250\n",
      "213/213 [==============================] - 2s 7ms/step - loss: 0.1818 - accuracy: 0.9281\n",
      "Epoch 42/250\n",
      "213/213 [==============================] - 2s 7ms/step - loss: 0.1897 - accuracy: 0.9195\n",
      "Epoch 43/250\n",
      "213/213 [==============================] - 2s 7ms/step - loss: 0.1838 - accuracy: 0.9254\n",
      "Epoch 44/250\n",
      "213/213 [==============================] - 2s 7ms/step - loss: 0.1819 - accuracy: 0.9245\n",
      "Epoch 45/250\n",
      "213/213 [==============================] - 2s 8ms/step - loss: 0.1802 - accuracy: 0.9232\n",
      "Epoch 46/250\n",
      "213/213 [==============================] - 2s 7ms/step - loss: 0.1746 - accuracy: 0.9278\n",
      "Epoch 47/250\n",
      "213/213 [==============================] - 2s 7ms/step - loss: 0.1775 - accuracy: 0.9276\n",
      "Epoch 48/250\n",
      "213/213 [==============================] - 2s 8ms/step - loss: 0.1783 - accuracy: 0.9294\n",
      "Epoch 49/250\n",
      "213/213 [==============================] - 2s 8ms/step - loss: 0.1804 - accuracy: 0.9245\n",
      "Epoch 50/250\n",
      "213/213 [==============================] - 2s 7ms/step - loss: 0.1768 - accuracy: 0.9274\n",
      "Epoch 51/250\n",
      "213/213 [==============================] - 2s 7ms/step - loss: 0.1771 - accuracy: 0.9292\n",
      "Epoch 52/250\n",
      "213/213 [==============================] - 2s 8ms/step - loss: 0.1703 - accuracy: 0.9304\n",
      "Epoch 53/250\n",
      "213/213 [==============================] - 2s 7ms/step - loss: 0.1751 - accuracy: 0.9298\n",
      "Epoch 54/250\n",
      "213/213 [==============================] - 2s 7ms/step - loss: 0.1769 - accuracy: 0.9274\n",
      "Epoch 55/250\n",
      "213/213 [==============================] - 2s 7ms/step - loss: 0.1713 - accuracy: 0.9312\n",
      "Epoch 56/250\n",
      "213/213 [==============================] - 2s 7ms/step - loss: 0.1705 - accuracy: 0.9319\n",
      "Epoch 57/250\n",
      "213/213 [==============================] - 2s 10ms/step - loss: 0.1739 - accuracy: 0.9298\n",
      "Epoch 58/250\n",
      "213/213 [==============================] - 2s 8ms/step - loss: 0.1690 - accuracy: 0.9318\n",
      "Epoch 59/250\n",
      "213/213 [==============================] - 2s 7ms/step - loss: 0.1682 - accuracy: 0.9317\n",
      "Epoch 60/250\n",
      "213/213 [==============================] - 2s 7ms/step - loss: 0.1687 - accuracy: 0.9312\n",
      "Epoch 61/250\n",
      "213/213 [==============================] - 2s 7ms/step - loss: 0.1663 - accuracy: 0.9320\n",
      "Epoch 62/250\n",
      "213/213 [==============================] - 2s 7ms/step - loss: 0.1656 - accuracy: 0.9331\n",
      "Epoch 63/250\n",
      "213/213 [==============================] - 2s 7ms/step - loss: 0.1687 - accuracy: 0.9330\n",
      "Epoch 64/250\n",
      "213/213 [==============================] - 2s 7ms/step - loss: 0.1731 - accuracy: 0.9271\n",
      "Epoch 65/250\n",
      "213/213 [==============================] - 2s 8ms/step - loss: 0.1662 - accuracy: 0.9338\n",
      "Epoch 66/250\n",
      "213/213 [==============================] - 2s 7ms/step - loss: 0.1671 - accuracy: 0.9318\n",
      "Epoch 67/250\n",
      "213/213 [==============================] - 2s 7ms/step - loss: 0.1631 - accuracy: 0.9332\n",
      "Epoch 68/250\n",
      "213/213 [==============================] - 2s 7ms/step - loss: 0.1651 - accuracy: 0.9335\n",
      "Epoch 69/250\n",
      "213/213 [==============================] - 2s 7ms/step - loss: 0.1704 - accuracy: 0.9321\n",
      "Epoch 70/250\n",
      "213/213 [==============================] - 2s 7ms/step - loss: 0.1709 - accuracy: 0.9307\n",
      "Epoch 71/250\n",
      "213/213 [==============================] - 2s 7ms/step - loss: 0.1758 - accuracy: 0.9278\n",
      "Epoch 72/250\n",
      "213/213 [==============================] - 2s 8ms/step - loss: 0.1679 - accuracy: 0.9321\n",
      "Epoch 73/250\n",
      "213/213 [==============================] - 2s 7ms/step - loss: 0.1652 - accuracy: 0.9337\n",
      "Epoch 74/250\n",
      "213/213 [==============================] - 2s 7ms/step - loss: 0.1666 - accuracy: 0.9316\n",
      "Epoch 75/250\n",
      "213/213 [==============================] - 2s 7ms/step - loss: 0.1630 - accuracy: 0.9342\n",
      "Epoch 76/250\n",
      "213/213 [==============================] - 2s 7ms/step - loss: 0.1606 - accuracy: 0.9349\n",
      "Epoch 77/250\n",
      "213/213 [==============================] - 2s 8ms/step - loss: 0.1577 - accuracy: 0.9354\n",
      "Epoch 78/250\n",
      "213/213 [==============================] - 2s 9ms/step - loss: 0.1613 - accuracy: 0.9351\n",
      "Epoch 79/250\n",
      "213/213 [==============================] - 2s 8ms/step - loss: 0.1586 - accuracy: 0.9357\n",
      "Epoch 80/250\n",
      "213/213 [==============================] - 2s 7ms/step - loss: 0.1600 - accuracy: 0.9345\n",
      "Epoch 81/250\n",
      "213/213 [==============================] - 2s 7ms/step - loss: 0.1573 - accuracy: 0.9371\n",
      "Epoch 82/250\n",
      "213/213 [==============================] - 2s 7ms/step - loss: 0.1569 - accuracy: 0.9377\n",
      "Epoch 83/250\n",
      "213/213 [==============================] - 2s 7ms/step - loss: 0.1639 - accuracy: 0.9366\n",
      "Epoch 84/250\n",
      "213/213 [==============================] - 2s 7ms/step - loss: 0.1584 - accuracy: 0.9356\n",
      "Epoch 85/250\n",
      "213/213 [==============================] - 2s 7ms/step - loss: 0.1608 - accuracy: 0.9347\n",
      "Epoch 86/250\n",
      "213/213 [==============================] - 2s 9ms/step - loss: 0.1467 - accuracy: 0.9405\n",
      "Epoch 87/250\n",
      "213/213 [==============================] - 2s 7ms/step - loss: 0.1532 - accuracy: 0.9378\n",
      "Epoch 88/250\n",
      "213/213 [==============================] - 2s 7ms/step - loss: 0.1536 - accuracy: 0.9388\n",
      "Epoch 89/250\n",
      "213/213 [==============================] - 2s 8ms/step - loss: 0.1548 - accuracy: 0.9364\n",
      "Epoch 90/250\n",
      "213/213 [==============================] - 2s 7ms/step - loss: 0.1616 - accuracy: 0.9338\n",
      "Epoch 91/250\n",
      "213/213 [==============================] - 2s 7ms/step - loss: 0.1573 - accuracy: 0.9357\n",
      "Epoch 92/250\n",
      "213/213 [==============================] - 2s 7ms/step - loss: 0.1524 - accuracy: 0.9374\n",
      "Epoch 93/250\n",
      "213/213 [==============================] - 2s 8ms/step - loss: 0.1556 - accuracy: 0.9366\n",
      "Epoch 94/250\n",
      "213/213 [==============================] - 2s 7ms/step - loss: 0.1506 - accuracy: 0.9404\n",
      "Epoch 95/250\n",
      "213/213 [==============================] - 2s 7ms/step - loss: 0.1562 - accuracy: 0.9365\n",
      "Epoch 96/250\n",
      "213/213 [==============================] - 2s 7ms/step - loss: 0.1568 - accuracy: 0.9379\n",
      "Epoch 97/250\n",
      "213/213 [==============================] - 2s 9ms/step - loss: 0.1450 - accuracy: 0.9426\n",
      "Epoch 98/250\n",
      "213/213 [==============================] - 2s 7ms/step - loss: 0.1620 - accuracy: 0.9384\n",
      "Epoch 99/250\n",
      "213/213 [==============================] - 2s 7ms/step - loss: 0.1569 - accuracy: 0.9354\n",
      "Epoch 100/250\n",
      "213/213 [==============================] - 2s 7ms/step - loss: 0.1583 - accuracy: 0.9385\n",
      "Epoch 101/250\n",
      "213/213 [==============================] - 2s 7ms/step - loss: 0.1746 - accuracy: 0.9306\n",
      "Epoch 102/250\n",
      "213/213 [==============================] - 2s 7ms/step - loss: 0.1580 - accuracy: 0.9394\n",
      "Epoch 103/250\n",
      "213/213 [==============================] - 2s 7ms/step - loss: 0.1485 - accuracy: 0.9397\n",
      "Epoch 104/250\n",
      "213/213 [==============================] - 2s 7ms/step - loss: 0.1557 - accuracy: 0.9410\n",
      "Epoch 105/250\n",
      "213/213 [==============================] - 2s 7ms/step - loss: 0.1505 - accuracy: 0.9397\n",
      "Epoch 106/250\n",
      "213/213 [==============================] - 2s 7ms/step - loss: 0.1507 - accuracy: 0.9412\n",
      "Epoch 107/250\n",
      "213/213 [==============================] - 2s 8ms/step - loss: 0.1429 - accuracy: 0.9429\n",
      "Epoch 108/250\n",
      "213/213 [==============================] - 2s 7ms/step - loss: 0.1656 - accuracy: 0.9374\n",
      "Epoch 109/250\n",
      "213/213 [==============================] - 2s 7ms/step - loss: 0.1538 - accuracy: 0.9374\n",
      "Epoch 110/250\n",
      "213/213 [==============================] - 2s 7ms/step - loss: 0.1520 - accuracy: 0.9407\n",
      "Epoch 111/250\n",
      "213/213 [==============================] - 2s 7ms/step - loss: 0.1520 - accuracy: 0.9413\n",
      "Epoch 112/250\n",
      "213/213 [==============================] - 2s 7ms/step - loss: 0.1442 - accuracy: 0.9401\n",
      "Epoch 113/250\n",
      "213/213 [==============================] - 2s 7ms/step - loss: 0.1463 - accuracy: 0.9421\n",
      "Epoch 114/250\n",
      "213/213 [==============================] - 2s 8ms/step - loss: 0.1464 - accuracy: 0.9404\n",
      "Epoch 115/250\n",
      "213/213 [==============================] - 2s 7ms/step - loss: 0.1472 - accuracy: 0.9399\n",
      "Epoch 116/250\n",
      "213/213 [==============================] - 2s 7ms/step - loss: 0.1456 - accuracy: 0.9425\n",
      "Epoch 117/250\n",
      "213/213 [==============================] - 2s 8ms/step - loss: 0.1432 - accuracy: 0.9426\n",
      "Epoch 118/250\n",
      "213/213 [==============================] - 2s 9ms/step - loss: 0.1460 - accuracy: 0.9412\n",
      "Epoch 119/250\n",
      "213/213 [==============================] - 2s 7ms/step - loss: 0.1512 - accuracy: 0.9407\n",
      "Epoch 120/250\n",
      "213/213 [==============================] - 2s 7ms/step - loss: 0.1581 - accuracy: 0.9358\n",
      "Epoch 121/250\n",
      "213/213 [==============================] - 2s 8ms/step - loss: 0.1484 - accuracy: 0.9421\n",
      "Epoch 122/250\n",
      "213/213 [==============================] - 2s 7ms/step - loss: 0.1466 - accuracy: 0.9399\n",
      "Epoch 123/250\n",
      "213/213 [==============================] - 2s 7ms/step - loss: 0.1413 - accuracy: 0.9449\n",
      "Epoch 124/250\n",
      "213/213 [==============================] - 2s 8ms/step - loss: 0.1406 - accuracy: 0.9432\n",
      "Epoch 125/250\n",
      "213/213 [==============================] - 2s 7ms/step - loss: 0.1420 - accuracy: 0.9443\n",
      "Epoch 126/250\n",
      "213/213 [==============================] - 2s 8ms/step - loss: 0.1421 - accuracy: 0.9419\n",
      "Epoch 127/250\n",
      "213/213 [==============================] - 2s 8ms/step - loss: 0.1508 - accuracy: 0.9389\n",
      "Epoch 128/250\n",
      "213/213 [==============================] - 2s 8ms/step - loss: 0.1416 - accuracy: 0.9397\n",
      "Epoch 129/250\n",
      "213/213 [==============================] - 2s 7ms/step - loss: 0.1386 - accuracy: 0.9445\n",
      "Epoch 130/250\n",
      "213/213 [==============================] - 2s 7ms/step - loss: 0.1452 - accuracy: 0.9415\n",
      "Epoch 131/250\n",
      "213/213 [==============================] - 2s 7ms/step - loss: 0.1379 - accuracy: 0.9440\n",
      "Epoch 132/250\n",
      "213/213 [==============================] - 2s 7ms/step - loss: 0.1324 - accuracy: 0.9459\n",
      "Epoch 133/250\n",
      "213/213 [==============================] - 2s 7ms/step - loss: 0.1368 - accuracy: 0.9468\n",
      "Epoch 134/250\n",
      "213/213 [==============================] - 2s 8ms/step - loss: 0.1338 - accuracy: 0.9458\n",
      "Epoch 135/250\n",
      "213/213 [==============================] - 2s 7ms/step - loss: 0.1386 - accuracy: 0.9451\n",
      "Epoch 136/250\n",
      "213/213 [==============================] - 2s 7ms/step - loss: 0.1426 - accuracy: 0.9438\n",
      "Epoch 137/250\n",
      "213/213 [==============================] - 2s 7ms/step - loss: 0.1779 - accuracy: 0.9391\n",
      "Epoch 138/250\n",
      "213/213 [==============================] - 2s 10ms/step - loss: 0.1409 - accuracy: 0.9436\n",
      "Epoch 139/250\n",
      "213/213 [==============================] - 2s 7ms/step - loss: 0.1425 - accuracy: 0.9449\n",
      "Epoch 140/250\n",
      "213/213 [==============================] - 2s 7ms/step - loss: 0.1436 - accuracy: 0.9424\n",
      "Epoch 141/250\n",
      "213/213 [==============================] - 2s 8ms/step - loss: 0.1385 - accuracy: 0.9455\n",
      "Epoch 142/250\n",
      "213/213 [==============================] - 2s 7ms/step - loss: 0.1380 - accuracy: 0.9435\n",
      "Epoch 143/250\n",
      "213/213 [==============================] - 2s 7ms/step - loss: 0.1779 - accuracy: 0.9363\n",
      "Epoch 144/250\n",
      "213/213 [==============================] - 2s 7ms/step - loss: 0.1456 - accuracy: 0.9413\n",
      "Epoch 145/250\n",
      "213/213 [==============================] - 2s 7ms/step - loss: 0.1472 - accuracy: 0.9401\n",
      "Epoch 146/250\n",
      "213/213 [==============================] - 2s 7ms/step - loss: 0.1450 - accuracy: 0.9428\n",
      "Epoch 147/250\n",
      "213/213 [==============================] - 2s 7ms/step - loss: 0.1372 - accuracy: 0.9435\n",
      "Epoch 148/250\n",
      "213/213 [==============================] - 2s 8ms/step - loss: 0.1379 - accuracy: 0.9430\n",
      "Epoch 149/250\n",
      "213/213 [==============================] - 2s 7ms/step - loss: 0.1384 - accuracy: 0.9456\n",
      "Epoch 150/250\n",
      "213/213 [==============================] - 2s 7ms/step - loss: 0.1371 - accuracy: 0.9460\n",
      "Epoch 151/250\n",
      "213/213 [==============================] - 2s 7ms/step - loss: 0.1393 - accuracy: 0.9462\n",
      "Epoch 152/250\n",
      "213/213 [==============================] - 2s 7ms/step - loss: 0.1400 - accuracy: 0.9429\n",
      "Epoch 153/250\n",
      "213/213 [==============================] - 2s 7ms/step - loss: 0.1354 - accuracy: 0.9451\n",
      "Epoch 154/250\n",
      "213/213 [==============================] - 2s 7ms/step - loss: 0.1399 - accuracy: 0.9423\n",
      "Epoch 155/250\n",
      "213/213 [==============================] - 2s 8ms/step - loss: 0.1288 - accuracy: 0.9484\n",
      "Epoch 156/250\n",
      "213/213 [==============================] - 2s 7ms/step - loss: 0.1354 - accuracy: 0.9446\n",
      "Epoch 157/250\n",
      "213/213 [==============================] - 2s 7ms/step - loss: 0.1311 - accuracy: 0.9474\n",
      "Epoch 158/250\n",
      "213/213 [==============================] - 2s 9ms/step - loss: 0.1336 - accuracy: 0.9471\n",
      "Epoch 159/250\n",
      "213/213 [==============================] - 2s 9ms/step - loss: 0.1432 - accuracy: 0.9446\n",
      "Epoch 160/250\n",
      "213/213 [==============================] - 2s 7ms/step - loss: 0.1436 - accuracy: 0.9418\n",
      "Epoch 161/250\n",
      "213/213 [==============================] - 2s 8ms/step - loss: 0.1342 - accuracy: 0.9440\n",
      "Epoch 162/250\n",
      "213/213 [==============================] - 2s 8ms/step - loss: 0.1380 - accuracy: 0.9463\n",
      "Epoch 163/250\n",
      "213/213 [==============================] - 2s 8ms/step - loss: 0.1353 - accuracy: 0.9449\n",
      "Epoch 164/250\n",
      "213/213 [==============================] - 2s 7ms/step - loss: 0.1465 - accuracy: 0.9417\n",
      "Epoch 165/250\n",
      "213/213 [==============================] - 2s 7ms/step - loss: 0.1331 - accuracy: 0.9474\n",
      "Epoch 166/250\n",
      "213/213 [==============================] - 2s 7ms/step - loss: 0.1330 - accuracy: 0.9465\n",
      "Epoch 167/250\n",
      "213/213 [==============================] - 2s 7ms/step - loss: 0.1521 - accuracy: 0.9415\n",
      "Epoch 168/250\n",
      "213/213 [==============================] - 2s 7ms/step - loss: 0.1385 - accuracy: 0.9450\n",
      "Epoch 169/250\n",
      "213/213 [==============================] - 2s 8ms/step - loss: 0.1371 - accuracy: 0.9445\n",
      "Epoch 170/250\n",
      "213/213 [==============================] - 2s 7ms/step - loss: 0.1328 - accuracy: 0.9461\n",
      "Epoch 171/250\n",
      "213/213 [==============================] - 2s 7ms/step - loss: 0.1263 - accuracy: 0.9481\n",
      "Epoch 172/250\n",
      "213/213 [==============================] - 2s 7ms/step - loss: 0.1304 - accuracy: 0.9475\n",
      "Epoch 173/250\n",
      "213/213 [==============================] - 2s 7ms/step - loss: 0.1280 - accuracy: 0.9485\n",
      "Epoch 174/250\n",
      "213/213 [==============================] - 2s 7ms/step - loss: 0.1293 - accuracy: 0.9490\n",
      "Epoch 175/250\n",
      "213/213 [==============================] - 2s 7ms/step - loss: 0.1259 - accuracy: 0.9499\n",
      "Epoch 176/250\n",
      "213/213 [==============================] - 2s 8ms/step - loss: 0.1267 - accuracy: 0.9490\n",
      "Epoch 177/250\n",
      "213/213 [==============================] - 2s 7ms/step - loss: 0.1286 - accuracy: 0.9488\n",
      "Epoch 178/250\n",
      "213/213 [==============================] - 2s 8ms/step - loss: 0.1405 - accuracy: 0.9440\n",
      "Epoch 179/250\n",
      "213/213 [==============================] - 2s 10ms/step - loss: 0.1431 - accuracy: 0.9448\n",
      "Epoch 180/250\n",
      "213/213 [==============================] - 2s 7ms/step - loss: 0.1340 - accuracy: 0.9476\n",
      "Epoch 181/250\n",
      "213/213 [==============================] - 2s 7ms/step - loss: 0.1321 - accuracy: 0.9478\n",
      "Epoch 182/250\n",
      "213/213 [==============================] - 2s 8ms/step - loss: 0.1284 - accuracy: 0.9482\n",
      "Epoch 183/250\n",
      "213/213 [==============================] - 2s 7ms/step - loss: 0.1259 - accuracy: 0.9493\n",
      "Epoch 184/250\n",
      "213/213 [==============================] - 2s 7ms/step - loss: 0.1311 - accuracy: 0.9472\n",
      "Epoch 185/250\n",
      "213/213 [==============================] - 2s 7ms/step - loss: 0.1278 - accuracy: 0.9501\n",
      "Epoch 186/250\n",
      "213/213 [==============================] - 2s 7ms/step - loss: 0.1251 - accuracy: 0.9507\n",
      "Epoch 187/250\n",
      "213/213 [==============================] - 2s 7ms/step - loss: 0.1302 - accuracy: 0.9471\n",
      "Epoch 188/250\n",
      "213/213 [==============================] - 2s 7ms/step - loss: 0.1272 - accuracy: 0.9496\n",
      "Epoch 189/250\n",
      "213/213 [==============================] - 2s 8ms/step - loss: 0.1331 - accuracy: 0.9471\n",
      "Epoch 190/250\n",
      "213/213 [==============================] - 2s 7ms/step - loss: 0.1293 - accuracy: 0.9468\n",
      "Epoch 191/250\n",
      "213/213 [==============================] - 2s 7ms/step - loss: 0.1402 - accuracy: 0.9462\n",
      "Epoch 192/250\n",
      "213/213 [==============================] - 2s 7ms/step - loss: 0.1268 - accuracy: 0.9506\n",
      "Epoch 193/250\n",
      "213/213 [==============================] - 2s 7ms/step - loss: 0.1298 - accuracy: 0.9479\n",
      "Epoch 194/250\n",
      "213/213 [==============================] - 2s 7ms/step - loss: 0.1224 - accuracy: 0.9510\n",
      "Epoch 195/250\n",
      "213/213 [==============================] - 2s 7ms/step - loss: 0.1286 - accuracy: 0.9485\n",
      "Epoch 196/250\n",
      "213/213 [==============================] - 2s 8ms/step - loss: 0.1236 - accuracy: 0.9510\n",
      "Epoch 197/250\n",
      "213/213 [==============================] - 2s 7ms/step - loss: 0.1277 - accuracy: 0.9491\n",
      "Epoch 198/250\n",
      "213/213 [==============================] - 2s 7ms/step - loss: 0.1262 - accuracy: 0.9496\n",
      "Epoch 199/250\n",
      "213/213 [==============================] - 2s 12ms/step - loss: 0.1221 - accuracy: 0.9517\n",
      "Epoch 200/250\n",
      "213/213 [==============================] - 2s 8ms/step - loss: 0.1336 - accuracy: 0.9468\n",
      "Epoch 201/250\n",
      "213/213 [==============================] - 2s 8ms/step - loss: 0.1269 - accuracy: 0.9500\n",
      "Epoch 202/250\n",
      "213/213 [==============================] - 2s 8ms/step - loss: 0.1261 - accuracy: 0.9505\n",
      "Epoch 203/250\n",
      "213/213 [==============================] - 2s 7ms/step - loss: 0.1303 - accuracy: 0.9457\n",
      "Epoch 204/250\n",
      "213/213 [==============================] - 2s 7ms/step - loss: 0.1261 - accuracy: 0.9484\n",
      "Epoch 205/250\n",
      "213/213 [==============================] - 2s 7ms/step - loss: 0.1272 - accuracy: 0.9506\n",
      "Epoch 206/250\n",
      "213/213 [==============================] - 2s 7ms/step - loss: 0.1249 - accuracy: 0.9499\n",
      "Epoch 207/250\n",
      "213/213 [==============================] - 2s 7ms/step - loss: 0.1416 - accuracy: 0.9465\n",
      "Epoch 208/250\n",
      "213/213 [==============================] - 2s 7ms/step - loss: 0.1267 - accuracy: 0.9503\n",
      "Epoch 209/250\n",
      "213/213 [==============================] - 2s 8ms/step - loss: 0.1383 - accuracy: 0.9453\n",
      "Epoch 210/250\n",
      "213/213 [==============================] - 2s 7ms/step - loss: 0.1289 - accuracy: 0.9471\n",
      "Epoch 211/250\n",
      "213/213 [==============================] - 2s 7ms/step - loss: 0.1265 - accuracy: 0.9491\n",
      "Epoch 212/250\n",
      "213/213 [==============================] - 2s 7ms/step - loss: 0.1238 - accuracy: 0.9508\n",
      "Epoch 213/250\n",
      "213/213 [==============================] - 2s 7ms/step - loss: 0.1385 - accuracy: 0.9438\n",
      "Epoch 214/250\n",
      "213/213 [==============================] - 2s 7ms/step - loss: 0.1221 - accuracy: 0.9487\n",
      "Epoch 215/250\n",
      "213/213 [==============================] - 2s 7ms/step - loss: 0.1213 - accuracy: 0.9527\n",
      "Epoch 216/250\n",
      "213/213 [==============================] - 2s 8ms/step - loss: 0.1189 - accuracy: 0.9533\n",
      "Epoch 217/250\n",
      "213/213 [==============================] - 2s 7ms/step - loss: 0.1213 - accuracy: 0.9520\n",
      "Epoch 218/250\n",
      "213/213 [==============================] - 2s 7ms/step - loss: 0.1179 - accuracy: 0.9536\n",
      "Epoch 219/250\n",
      "213/213 [==============================] - 2s 8ms/step - loss: 0.1179 - accuracy: 0.9540\n",
      "Epoch 220/250\n",
      "213/213 [==============================] - 2s 8ms/step - loss: 0.1234 - accuracy: 0.9492\n",
      "Epoch 221/250\n",
      "213/213 [==============================] - 2s 8ms/step - loss: 0.1200 - accuracy: 0.9523\n",
      "Epoch 222/250\n",
      "213/213 [==============================] - 2s 7ms/step - loss: 0.1187 - accuracy: 0.9518\n",
      "Epoch 223/250\n",
      "213/213 [==============================] - 2s 8ms/step - loss: 0.1385 - accuracy: 0.9490\n",
      "Epoch 224/250\n",
      "213/213 [==============================] - 2s 7ms/step - loss: 0.1283 - accuracy: 0.9498\n",
      "Epoch 225/250\n",
      "213/213 [==============================] - 2s 7ms/step - loss: 0.1253 - accuracy: 0.9485\n",
      "Epoch 226/250\n",
      "213/213 [==============================] - 2s 7ms/step - loss: 0.1186 - accuracy: 0.9535\n",
      "Epoch 227/250\n",
      "213/213 [==============================] - 2s 7ms/step - loss: 0.1223 - accuracy: 0.9528\n",
      "Epoch 228/250\n",
      "213/213 [==============================] - 2s 7ms/step - loss: 0.1182 - accuracy: 0.9527\n",
      "Epoch 229/250\n",
      "213/213 [==============================] - 2s 7ms/step - loss: 0.1177 - accuracy: 0.9529\n",
      "Epoch 230/250\n",
      "213/213 [==============================] - 2s 8ms/step - loss: 0.1166 - accuracy: 0.9542\n",
      "Epoch 231/250\n",
      "213/213 [==============================] - 2s 7ms/step - loss: 0.1227 - accuracy: 0.9502\n",
      "Epoch 232/250\n",
      "213/213 [==============================] - 2s 7ms/step - loss: 0.1204 - accuracy: 0.9517\n",
      "Epoch 233/250\n",
      "213/213 [==============================] - 2s 7ms/step - loss: 0.1228 - accuracy: 0.9532\n",
      "Epoch 234/250\n",
      "213/213 [==============================] - 2s 7ms/step - loss: 0.1332 - accuracy: 0.9490\n",
      "Epoch 235/250\n",
      "213/213 [==============================] - 2s 7ms/step - loss: 0.1195 - accuracy: 0.9537\n",
      "Epoch 236/250\n",
      "213/213 [==============================] - 2s 8ms/step - loss: 0.1238 - accuracy: 0.9524\n",
      "Epoch 237/250\n",
      "213/213 [==============================] - 2s 8ms/step - loss: 0.1243 - accuracy: 0.9502\n",
      "Epoch 238/250\n",
      "213/213 [==============================] - 2s 8ms/step - loss: 0.1262 - accuracy: 0.9485\n",
      "Epoch 239/250\n",
      "213/213 [==============================] - 2s 7ms/step - loss: 0.1134 - accuracy: 0.9531\n",
      "Epoch 240/250\n",
      "213/213 [==============================] - 2s 8ms/step - loss: 0.1322 - accuracy: 0.9500\n",
      "Epoch 241/250\n",
      "213/213 [==============================] - 2s 8ms/step - loss: 0.1304 - accuracy: 0.9485\n",
      "Epoch 242/250\n",
      "213/213 [==============================] - 2s 8ms/step - loss: 0.1161 - accuracy: 0.9543\n",
      "Epoch 243/250\n",
      "213/213 [==============================] - 2s 7ms/step - loss: 0.1201 - accuracy: 0.9521\n",
      "Epoch 244/250\n",
      "213/213 [==============================] - 2s 8ms/step - loss: 0.1160 - accuracy: 0.9529\n",
      "Epoch 245/250\n",
      "213/213 [==============================] - 2s 7ms/step - loss: 0.1221 - accuracy: 0.9507\n",
      "Epoch 246/250\n",
      "213/213 [==============================] - 2s 7ms/step - loss: 0.1326 - accuracy: 0.9504\n",
      "Epoch 247/250\n",
      "213/213 [==============================] - 2s 7ms/step - loss: 0.1213 - accuracy: 0.9516\n",
      "Epoch 248/250\n",
      "213/213 [==============================] - 2s 7ms/step - loss: 0.1159 - accuracy: 0.9540\n",
      "Epoch 249/250\n",
      "213/213 [==============================] - 2s 7ms/step - loss: 0.1198 - accuracy: 0.9499\n",
      "Epoch 250/250\n",
      "213/213 [==============================] - 2s 7ms/step - loss: 0.1169 - accuracy: 0.9540\n"
     ]
    },
    {
     "data": {
      "text/plain": [
       "<tensorflow.python.keras.callbacks.History at 0x7f936c14be10>"
      ]
     },
     "execution_count": 27,
     "metadata": {},
     "output_type": "execute_result"
    }
   ],
   "source": [
    "model.fit(x_train_scaled,y_train,epochs=250,batch_size=64)"
   ]
  },
  {
   "cell_type": "code",
   "execution_count": 28,
   "metadata": {
    "execution": {
     "iopub.execute_input": "2020-12-22T10:39:40.264383Z",
     "iopub.status.busy": "2020-12-22T10:39:40.263520Z",
     "iopub.status.idle": "2020-12-22T10:39:40.685105Z",
     "shell.execute_reply": "2020-12-22T10:39:40.685892Z"
    },
    "papermill": {
     "duration": 2.664251,
     "end_time": "2020-12-22T10:39:40.686020",
     "exception": false,
     "start_time": "2020-12-22T10:39:38.021769",
     "status": "completed"
    },
    "tags": []
   },
   "outputs": [
    {
     "name": "stdout",
     "output_type": "stream",
     "text": [
      "107/107 [==============================] - 0s 2ms/step - loss: 0.1644 - accuracy: 0.9441\n"
     ]
    },
    {
     "data": {
      "text/plain": [
       "[0.16442306339740753, 0.9441176652908325]"
      ]
     },
     "execution_count": 28,
     "metadata": {},
     "output_type": "execute_result"
    }
   ],
   "source": [
    "model.evaluate(x_test_scaled,y_test)"
   ]
  },
  {
   "cell_type": "code",
   "execution_count": 29,
   "metadata": {
    "execution": {
     "iopub.execute_input": "2020-12-22T10:39:45.105509Z",
     "iopub.status.busy": "2020-12-22T10:39:45.104632Z",
     "iopub.status.idle": "2020-12-22T10:39:45.107284Z",
     "shell.execute_reply": "2020-12-22T10:39:45.106823Z"
    },
    "papermill": {
     "duration": 2.216257,
     "end_time": "2020-12-22T10:39:45.107377",
     "exception": false,
     "start_time": "2020-12-22T10:39:42.891120",
     "status": "completed"
    },
    "tags": []
   },
   "outputs": [],
   "source": [
    "from sklearn.metrics import classification_report"
   ]
  },
  {
   "cell_type": "code",
   "execution_count": 30,
   "metadata": {
    "execution": {
     "iopub.execute_input": "2020-12-22T10:39:49.857874Z",
     "iopub.status.busy": "2020-12-22T10:39:49.857059Z",
     "iopub.status.idle": "2020-12-22T10:39:50.074058Z",
     "shell.execute_reply": "2020-12-22T10:39:50.073583Z"
    },
    "papermill": {
     "duration": 2.443236,
     "end_time": "2020-12-22T10:39:50.074221",
     "exception": false,
     "start_time": "2020-12-22T10:39:47.630985",
     "status": "completed"
    },
    "tags": []
   },
   "outputs": [],
   "source": [
    "y_pred = np.round(model.predict(x_test_scaled))"
   ]
  },
  {
   "cell_type": "code",
   "execution_count": 31,
   "metadata": {
    "execution": {
     "iopub.execute_input": "2020-12-22T10:39:55.123738Z",
     "iopub.status.busy": "2020-12-22T10:39:55.122874Z",
     "iopub.status.idle": "2020-12-22T10:39:55.137784Z",
     "shell.execute_reply": "2020-12-22T10:39:55.137116Z"
    },
    "papermill": {
     "duration": 2.275627,
     "end_time": "2020-12-22T10:39:55.137887",
     "exception": false,
     "start_time": "2020-12-22T10:39:52.862260",
     "status": "completed"
    },
    "tags": []
   },
   "outputs": [
    {
     "name": "stdout",
     "output_type": "stream",
     "text": [
      "              precision    recall  f1-score   support\n",
      "\n",
      "           0       0.91      0.98      0.95      1700\n",
      "           1       0.98      0.91      0.94      1700\n",
      "\n",
      "    accuracy                           0.94      3400\n",
      "   macro avg       0.95      0.94      0.94      3400\n",
      "weighted avg       0.95      0.94      0.94      3400\n",
      "\n"
     ]
    }
   ],
   "source": [
    "print(classification_report(y_pred=y_pred,y_true=np.array(y_test)))"
   ]
  },
  {
   "cell_type": "code",
   "execution_count": null,
   "metadata": {
    "papermill": {
     "duration": 2.478205,
     "end_time": "2020-12-22T10:39:59.832644",
     "exception": false,
     "start_time": "2020-12-22T10:39:57.354439",
     "status": "completed"
    },
    "tags": []
   },
   "outputs": [],
   "source": []
  }
 ],
 "metadata": {
  "kernelspec": {
   "display_name": "Python 3",
   "language": "python",
   "name": "python3"
  },
  "language_info": {
   "codemirror_mode": {
    "name": "ipython",
    "version": 3
   },
   "file_extension": ".py",
   "mimetype": "text/x-python",
   "name": "python",
   "nbconvert_exporter": "python",
   "pygments_lexer": "ipython3",
   "version": "3.7.6"
  },
  "papermill": {
   "duration": 446.247293,
   "end_time": "2020-12-22T10:40:03.581293",
   "environment_variables": {},
   "exception": null,
   "input_path": "__notebook__.ipynb",
   "output_path": "__notebook__.ipynb",
   "parameters": {},
   "start_time": "2020-12-22T10:32:37.334000",
   "version": "2.1.0"
  }
 },
 "nbformat": 4,
 "nbformat_minor": 4
}
